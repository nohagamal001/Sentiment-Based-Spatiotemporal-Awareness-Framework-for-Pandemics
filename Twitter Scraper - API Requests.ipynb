{
 "cells": [
  {
   "cell_type": "code",
   "execution_count": null,
   "id": "7afc51aa-de95-4f96-ad09-d05efd38efc4",
   "metadata": {},
   "outputs": [],
   "source": [
    "import requests \n",
    "from requests.structures import CaseInsensitiveDict\n",
    "import json\n",
    "import random\n",
    "import pandas as pd"
   ]
  },
  {
   "cell_type": "markdown",
   "id": "c2f5d903-912d-45b4-b774-bc636dac5ce5",
   "metadata": {},
   "source": [
    "## Twitter Scraping using Twitter API"
   ]
  },
  {
   "cell_type": "code",
   "execution_count": null,
   "id": "cee4570d-5f26-4a8a-9b72-dbc157a7f512",
   "metadata": {},
   "outputs": [],
   "source": [
    "def scrape_api_data( url , params , headers  ):\n",
    "    response = requests.get(url ,params = params ,  headers = headers )\n",
    "    if response.status_code == 200 :\n",
    "        return response.json()\n",
    "    else:\n",
    "        return response.text"
   ]
  },
  {
   "cell_type": "code",
   "execution_count": null,
   "id": "2646ae0a-3681-4e30-8fe0-0e15780fac06",
   "metadata": {},
   "outputs": [],
   "source": [
    "headers = CaseInsensitiveDict()\n",
    "headers[\"Accept\"] = \"application/json\"\n",
    "headers[\"Authorization\"] = \"Bearer AAAAAAAAAAAAAAAAAAAAAC%2FfQAEAAAAA84u4da28eENZraYcIMHXxmbP%2Fu4%3DtPTP7i8B98fpRV1X3D6Lak6AmaMST88iBnyTuCzGTfFHXV9uP8\""
   ]
  },
  {
   "cell_type": "code",
   "execution_count": null,
   "id": "c28d148a-aee4-4d5a-9b6c-3e4f40d7bf01",
   "metadata": {},
   "outputs": [],
   "source": [
    "def real_scrape(url, params):\n",
    "    n = random.randint(1,100000000)\n",
    "    response = scrape_api_data(url, params, headers)\n",
    "#     file_name = \"data__{}.json\".format(n)\n",
    "#     a_file = open(file_name,\"w\")\n",
    "#     json.dump(response, a_file )\n",
    "    return response "
   ]
  },
  {
   "cell_type": "markdown",
   "id": "414fa3f7-781d-4e03-9c09-2d79984ce777",
   "metadata": {},
   "source": [
    "#### Search By Query"
   ]
  },
  {
   "cell_type": "code",
   "execution_count": null,
   "id": "fad2fd56-82a4-4915-9687-e2573e0cabcf",
   "metadata": {},
   "outputs": [],
   "source": [
    "recent_search_api = 'https://api.twitter.com/2/tweets/search/recent?'\n",
    "params = {\n",
    "        'max_results':100,\n",
    "        'query':'covid' ,\n",
    "        'tweet.fields' : 'author_id,entities,attachments,conversation_id,created_at,referenced_tweets,geo,lang'  \n",
    "         }"
   ]
  },
  {
   "cell_type": "code",
   "execution_count": null,
   "id": "a0813bba-11c6-4734-9917-d1f6eb2c3b35",
   "metadata": {
    "scrolled": true,
    "tags": []
   },
   "outputs": [],
   "source": [
    "real_scrape(recent_search_api, params)['data']"
   ]
  },
  {
   "cell_type": "markdown",
   "id": "3e6daaac-5b60-47e1-97a1-ca1dc94f1663",
   "metadata": {},
   "source": [
    "#### Search By Tweet IDs"
   ]
  },
  {
   "cell_type": "code",
   "execution_count": null,
   "id": "66ac427e-2f75-4aac-877b-481de23ce4a6",
   "metadata": {},
   "outputs": [],
   "source": [
    "ids = ','.join([tweet['id'] for tweet in real_scrape(recent_search_api, params)['data']])"
   ]
  },
  {
   "cell_type": "code",
   "execution_count": null,
   "id": "9b91f0b5-2d44-4812-b7c1-85acbac79f5b",
   "metadata": {},
   "outputs": [],
   "source": [
    "multiple_search_api = 'https://api.twitter.com/2/tweets?'\n",
    "params = {\n",
    "        'ids':'1136048014974423040',\n",
    "        'tweet.fields':'author_id,entities,attachments,conversation_id,created_at,referenced_tweets',\n",
    "        'place.fields':'contained_within,country,country_code,full_name,geo,id,name,place_type',\n",
    "        'expansions':'geo.place_id',\n",
    "}"
   ]
  },
  {
   "cell_type": "code",
   "execution_count": null,
   "id": "4b594445-aaa0-469d-a5d0-6dd47a3bc521",
   "metadata": {
    "scrolled": true,
    "tags": []
   },
   "outputs": [],
   "source": [
    "real_scrape(multiple_search_api, params)['data']"
   ]
  },
  {
   "cell_type": "code",
   "execution_count": null,
   "id": "1ad0e5ed-a2bd-431b-8d80-a7c24b6ae396",
   "metadata": {
    "scrolled": true,
    "tags": []
   },
   "outputs": [],
   "source": [
    "pd.DataFrame(real_scrape(multiple_search_api, params)['includes'])"
   ]
  },
  {
   "cell_type": "markdown",
   "id": "6db64976-c652-49af-84d9-9b5d5202d67a",
   "metadata": {},
   "source": [
    "#### Search By Author IDs"
   ]
  },
  {
   "cell_type": "code",
   "execution_count": null,
   "id": "ea952997-17af-4f8a-9789-eb5028b7abe0",
   "metadata": {},
   "outputs": [],
   "source": [
    "params = {\n",
    "        'max_results':100,\n",
    "        'query':'covid' ,\n",
    "        'tweet.fields' : 'author_id,entities,attachments,conversation_id,created_at,referenced_tweets,geo,lang'  \n",
    "         }\n",
    "ids = ','.join([tweet['author_id'] for tweet in real_scrape(recent_search_api, params)['data']])"
   ]
  },
  {
   "cell_type": "code",
   "execution_count": null,
   "id": "c0c893e3-07c6-4bc8-931d-5b3168bff127",
   "metadata": {},
   "outputs": [],
   "source": [
    "ids = [tweet['author_id'] for tweet in real_scrape(recent_search_api, params)['data']]"
   ]
  },
  {
   "cell_type": "code",
   "execution_count": null,
   "id": "ec466fc9-284b-42d1-844e-5cfaf014191f",
   "metadata": {},
   "outputs": [],
   "source": [
    "users_search_api = 'https://api.twitter.com/labs/2/users?'\n",
    "params = {\n",
    "        'id':str(ids[0]),\n",
    "#         'tweet.fields':'author_id,entities,attachments,conversation_id,created_at,referenced_tweets',\n",
    "#         'place.fields':'contained_within,country,country_code,full_name,geo,id,name,place_type',\n",
    "#         'expansions':'geo.place_id',\n",
    "}"
   ]
  },
  {
   "cell_type": "code",
   "execution_count": null,
   "id": "1a61918d-b85d-426a-a3a2-29278443ceda",
   "metadata": {
    "scrolled": true,
    "tags": []
   },
   "outputs": [],
   "source": [
    "real_scrape(users_search_api, params)"
   ]
  },
  {
   "cell_type": "code",
   "execution_count": null,
   "id": "892cb709-a261-4d56-8415-1336d3060352",
   "metadata": {
    "scrolled": true,
    "tags": []
   },
   "outputs": [],
   "source": [
    "# params = {\n",
    "#         'max_results':100,\n",
    "#         'query':'covid' ,\n",
    "#         'tweet.fields' : 'author_id,entities,attachments,conversation_id,created_at,referenced_tweets,geo,lang'  \n",
    "#          }\n",
    "\n",
    "real_scrape(users_search_api, params)"
   ]
  },
  {
   "cell_type": "code",
   "execution_count": null,
   "id": "153abdb0-5e10-4c71-ac96-65125b58f649",
   "metadata": {},
   "outputs": [],
   "source": []
  }
 ],
 "metadata": {
  "kernelspec": {
   "display_name": "Python 3",
   "language": "python",
   "name": "python3"
  },
  "language_info": {
   "codemirror_mode": {
    "name": "ipython",
    "version": 3
   },
   "file_extension": ".py",
   "mimetype": "text/x-python",
   "name": "python",
   "nbconvert_exporter": "python",
   "pygments_lexer": "ipython3",
   "version": "3.8.8"
  }
 },
 "nbformat": 4,
 "nbformat_minor": 5
}
