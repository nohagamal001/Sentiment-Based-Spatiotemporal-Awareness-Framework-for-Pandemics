{
 "cells": [
  {
   "cell_type": "code",
   "execution_count": null,
   "id": "d91f92cc",
   "metadata": {},
   "outputs": [],
   "source": [
    "from twarc import Twarc\n",
    "import os\n",
    "\n",
    "import pandas as pd\n",
    "import tweepy\n",
    "from multiprocessing import Pool\n",
    "from pymongo import MongoClient\n",
    "from collections.abc import Iterable\n",
    "\n",
    "TWITTER_CONSUMER_KEY = \"nCfs9fJCXThG9PHVWinsVywHt\"\n",
    "TWITTER_CONSUMER_SECRET = \"EvFpByStx6diPJ0UZplSkhBd53laQj5lheE0KynGojEtTtAy17\"\n",
    "TWITTER_ACCESS_TOKEN = \"1380480442818789376-xXSTw2pNEzHUgJ486YFkxPeXXkWSGX\"\n",
    "TWITTER_ACCESS_TOKEN_SECRET = \"R7sSTfgCV3O2ZZryWtRNQZHTc8blOJN60zqhM46FG6ak9\"\n",
    "\n",
    "\n",
    "# path of file that contains a list of tweet IDs\n",
    "file_name = os.path.join(os.getcwd(), \"IEEE_covid_tweets.csv\")"
   ]
  },
  {
   "cell_type": "code",
   "execution_count": null,
   "id": "f4fb8da9",
   "metadata": {},
   "outputs": [],
   "source": [
    "mongo_client = MongoClient()\n",
    "mongo_db = mongo_client[\"twitter\"]\n",
    "mongo_collection = mongo_db[\"tweets\"]\n",
    "\n",
    "\n",
    "# check existence of tweet in MongoDB\n",
    "def is_tweet_existing(collection, tweet_id):\n",
    "    try:\n",
    "        resultSet = collection.find({'id_str':str(tweet_id)})\n",
    "        if resultSet.count() > 0:\n",
    "            if isinstance(resultSet, Iterable):\n",
    "                return True\n",
    "            else:\n",
    "                return True\n",
    "        else:\n",
    "            return False\n",
    "    except Exception as e:\n",
    "        print('Exception : %s' % str(e))\n",
    "\n",
    "#save to MongoDB\n",
    "def insert_into_mongo(collection, tweet): \n",
    "    try:\n",
    "        print(\"New tweet will be stored >> \", tweet['id_str'])\n",
    "        print(\"I will insert it!\")\n",
    "        collection.insert(tweet)\n",
    "        return True\n",
    "    except Exception as e:\n",
    "        print('Exception : %s' % str(e))"
   ]
  },
  {
   "cell_type": "code",
   "execution_count": null,
   "id": "40aa1b75",
   "metadata": {},
   "outputs": [],
   "source": [
    "auth = tweepy.OAuthHandler(TWITTER_CONSUMER_KEY, TWITTER_CONSUMER_SECRET)\n",
    "auth.set_access_token(TWITTER_ACCESS_TOKEN, TWITTER_ACCESS_TOKEN_SECRET)\n",
    "api = tweepy.API(auth)\n",
    "\n",
    "\n",
    "lines = []\n",
    "with open(file_name) as f:\n",
    "    lines = f.readlines()\n",
    "print(\"Reading tweets IDs file is done!\")\n",
    "\n",
    "tweet_ids = []\n",
    "for line in lines:\n",
    "    tweet_ids.append(line.replace(\"\\n\", \"\").split(\",\")[0].strip())\n",
    "\n",
    "print(\"There are {} tweets IDs!\".format(len(tweet_ids)))\n",
    "\n",
    "\n",
    "def _worker_scrape_tweet(tweet_id):\n",
    "    try:\n",
    "        tweet = api.get_status(int(tweet_id))._json\n",
    "        if \"id\" in tweet.keys():\n",
    "            print(tweet['id'])\n",
    "        insert_into_mongo(mongo_collection, tweet)\n",
    "        return tweet\n",
    "    except Exception as e:\n",
    "        print(\"Exception:\", e)\n",
    "        pass"
   ]
  },
  {
   "cell_type": "markdown",
   "id": "0d6566d9",
   "metadata": {},
   "source": [
    "Remove tweets ids that already has been scrapped"
   ]
  },
  {
   "cell_type": "code",
   "execution_count": null,
   "id": "412aeda2",
   "metadata": {},
   "outputs": [],
   "source": [
    "tweet_ids = set(tweet_ids) - set(pd.DataFrame(mongo_collection.distinct(\"id_str\"), columns=[\"id_str\"])['id_str'].tolist())\n",
    "len(tweet_ids)"
   ]
  },
  {
   "cell_type": "code",
   "execution_count": null,
   "id": "f24ed4fb",
   "metadata": {},
   "outputs": [],
   "source": [
    "# tweets = []\n",
    "\n",
    "# threads_num = 5\n",
    "# pool = Pool(threads_num)\n",
    "# tweets = pool.map(_worker_scrape_tweet, tweet_ids)\n",
    "# pool.close()"
   ]
  },
  {
   "cell_type": "code",
   "execution_count": null,
   "id": "9593ba1d",
   "metadata": {
    "scrolled": true
   },
   "outputs": [],
   "source": [
    "tweets = []\n",
    "for tweet_id in tweet_ids:\n",
    "#     if is_tweet_existing(mongo_collection, tweet_id):\n",
    "#         print(\">>> Tweet is already stored >> \", tweet_id)\n",
    "#     else:\n",
    "    tweets.append(_worker_scrape_tweet(tweet_id))"
   ]
  },
  {
   "cell_type": "code",
   "execution_count": null,
   "id": "9f590f57",
   "metadata": {},
   "outputs": [],
   "source": [
    "print(\"Number of scraped tweets is {}\".format(len(tweets)))"
   ]
  },
  {
   "cell_type": "code",
   "execution_count": null,
   "id": "122e8998",
   "metadata": {},
   "outputs": [],
   "source": [
    "tweets[0]"
   ]
  },
  {
   "cell_type": "code",
   "execution_count": null,
   "id": "3b0c8a7f",
   "metadata": {},
   "outputs": [],
   "source": []
  }
 ],
 "metadata": {
  "kernelspec": {
   "display_name": "Python 3",
   "language": "python",
   "name": "python3"
  },
  "language_info": {
   "codemirror_mode": {
    "name": "ipython",
    "version": 3
   },
   "file_extension": ".py",
   "mimetype": "text/x-python",
   "name": "python",
   "nbconvert_exporter": "python",
   "pygments_lexer": "ipython3",
   "version": "3.8.8"
  }
 },
 "nbformat": 4,
 "nbformat_minor": 5
}
