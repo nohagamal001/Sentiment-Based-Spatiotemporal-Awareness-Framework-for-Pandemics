{
 "cells": [
  {
   "cell_type": "code",
   "execution_count": 1,
   "id": "188d715c",
   "metadata": {},
   "outputs": [],
   "source": [
    "import requests\n",
    "import pandas as pd \n",
    "import time "
   ]
  },
  {
   "cell_type": "code",
   "execution_count": 2,
   "id": "492a0dbf",
   "metadata": {},
   "outputs": [],
   "source": [
    "def all_countries_names():\n",
    "    url = \"https://world-population.p.rapidapi.com/allcountriesname\"\n",
    "    headers = {\n",
    "        'x-rapidapi-key': \"134117ae79msh40bb2931f9c7e4ap1aa445jsn8d1982670b09\",\n",
    "        'x-rapidapi-host': \"world-population.p.rapidapi.com\"\n",
    "        }\n",
    "    response = requests.request(\"GET\", url, headers=headers)\n",
    "    return response.json() "
   ]
  },
  {
   "cell_type": "code",
   "execution_count": 3,
   "id": "4fe4e4b4",
   "metadata": {},
   "outputs": [],
   "source": [
    "def population_country(country):\n",
    "    url = \"https://world-population.p.rapidapi.com/population\"\n",
    "    querystring = {\"country_name\":country}\n",
    "    headers = {\n",
    "        'x-rapidapi-key': \"134117ae79msh40bb2931f9c7e4ap1aa445jsn8d1982670b09\",\n",
    "        'x-rapidapi-host': \"world-population.p.rapidapi.com\"\n",
    "        }\n",
    "    response = requests.request(\"GET\", url, headers=headers, params=querystring)\n",
    "    return response.json()"
   ]
  },
  {
   "cell_type": "code",
   "execution_count": 4,
   "id": "e25dfd09",
   "metadata": {},
   "outputs": [],
   "source": [
    "all_countries = all_countries_names()['body']['countries']"
   ]
  },
  {
   "cell_type": "code",
   "execution_count": 5,
   "id": "cfc4ed29",
   "metadata": {},
   "outputs": [],
   "source": [
    "lst = []"
   ]
  },
  {
   "cell_type": "code",
   "execution_count": 6,
   "id": "e2b6d3b5",
   "metadata": {},
   "outputs": [
    {
     "name": "stdout",
     "output_type": "stream",
     "text": [
      "Please wait while Fetching apopulation of the Countries !! \n"
     ]
    }
   ],
   "source": [
    "print(\"Please wait while Fetching apopulation of the Countries !! \")"
   ]
  },
  {
   "cell_type": "code",
   "execution_count": 7,
   "id": "a88c4642",
   "metadata": {},
   "outputs": [],
   "source": [
    "for i in all_countries : \n",
    "    lst.append({ \"Country\" : i , \"Population\" : population_country(i)['body']['population'] })"
   ]
  },
  {
   "cell_type": "code",
   "execution_count": 8,
   "id": "ba9c20dc",
   "metadata": {},
   "outputs": [],
   "source": [
    "df = pd.DataFrame( lst )"
   ]
  },
  {
   "cell_type": "code",
   "execution_count": 9,
   "id": "14013592",
   "metadata": {},
   "outputs": [
    {
     "data": {
      "text/html": [
       "<div>\n",
       "<style scoped>\n",
       "    .dataframe tbody tr th:only-of-type {\n",
       "        vertical-align: middle;\n",
       "    }\n",
       "\n",
       "    .dataframe tbody tr th {\n",
       "        vertical-align: top;\n",
       "    }\n",
       "\n",
       "    .dataframe thead th {\n",
       "        text-align: right;\n",
       "    }\n",
       "</style>\n",
       "<table border=\"1\" class=\"dataframe\">\n",
       "  <thead>\n",
       "    <tr style=\"text-align: right;\">\n",
       "      <th></th>\n",
       "      <th>Country</th>\n",
       "      <th>Population</th>\n",
       "    </tr>\n",
       "  </thead>\n",
       "  <tbody>\n",
       "    <tr>\n",
       "      <th>0</th>\n",
       "      <td>China</td>\n",
       "      <td>1439323776</td>\n",
       "    </tr>\n",
       "    <tr>\n",
       "      <th>1</th>\n",
       "      <td>India</td>\n",
       "      <td>1380004385</td>\n",
       "    </tr>\n",
       "    <tr>\n",
       "      <th>2</th>\n",
       "      <td>United States</td>\n",
       "      <td>331002651</td>\n",
       "    </tr>\n",
       "    <tr>\n",
       "      <th>3</th>\n",
       "      <td>Indonesia</td>\n",
       "      <td>273523615</td>\n",
       "    </tr>\n",
       "    <tr>\n",
       "      <th>4</th>\n",
       "      <td>Pakistan</td>\n",
       "      <td>220892340</td>\n",
       "    </tr>\n",
       "  </tbody>\n",
       "</table>\n",
       "</div>"
      ],
      "text/plain": [
       "         Country  Population\n",
       "0          China  1439323776\n",
       "1          India  1380004385\n",
       "2  United States   331002651\n",
       "3      Indonesia   273523615\n",
       "4       Pakistan   220892340"
      ]
     },
     "execution_count": 9,
     "metadata": {},
     "output_type": "execute_result"
    }
   ],
   "source": [
    "df.head()"
   ]
  },
  {
   "cell_type": "code",
   "execution_count": 10,
   "id": "30c4195b",
   "metadata": {},
   "outputs": [],
   "source": [
    "def  all_countries():\n",
    "    url = \"https://api.covid19api.com/countries\"\n",
    "    payload={}\n",
    "    headers = {}\n",
    "    response = requests.request(\"GET\", url, headers=headers, data=payload, timeout=10)\n",
    "    return response.json()\n",
    "\n",
    "def get_stats_country(country , from_date , to_date ):\n",
    "    url = \"https://api.covid19api.com/total/country/{}?from={}&to={}\".format(country , from_date , to_date )\n",
    "    payload={}\n",
    "    headers = {}\n",
    "    response = requests.request(\"GET\", url, headers=headers, data = payload )\n",
    "    return response"
   ]
  },
  {
   "cell_type": "code",
   "execution_count": 11,
   "id": "a672fd08",
   "metadata": {},
   "outputs": [],
   "source": [
    "countries = pd.DataFrame(all_countries())"
   ]
  },
  {
   "cell_type": "code",
   "execution_count": 12,
   "id": "5af50604",
   "metadata": {},
   "outputs": [],
   "source": [
    "countries.to_csv(\"slugs_countries.csv\" , index = False)"
   ]
  },
  {
   "cell_type": "code",
   "execution_count": 13,
   "id": "082c632e",
   "metadata": {},
   "outputs": [],
   "source": [
    "slugs = countries['Slug'].to_list()\n",
    "from_date = \"2020-03-01T00:00:00Z\" \n",
    "to_date = \"2021-08-02T00:00:00Z\" "
   ]
  },
  {
   "cell_type": "code",
   "execution_count": 14,
   "id": "da1ead58",
   "metadata": {},
   "outputs": [],
   "source": [
    "all_Stats = []\n",
    "all_dataframes = []"
   ]
  },
  {
   "cell_type": "code",
   "execution_count": 15,
   "id": "2f7fcc2f",
   "metadata": {},
   "outputs": [],
   "source": [
    "for i in slugs: \n",
    "    try:\n",
    "        ret = get_stats_country( i , from_date , to_date )\n",
    "        df = pd.DataFrame( ret.json() )\n",
    "        all_dataframes.append( df )\n",
    "        time.sleep( 3 )\n",
    "    except:\n",
    "        print( get_stats_country( i  , from_date , to_date ).text )"
   ]
  },
  {
   "cell_type": "code",
   "execution_count": 16,
   "id": "e5b8d848",
   "metadata": {},
   "outputs": [],
   "source": [
    "df = pd.concat( all_dataframes )"
   ]
  },
  {
   "cell_type": "code",
   "execution_count": 17,
   "id": "9673a739",
   "metadata": {},
   "outputs": [
    {
     "data": {
      "text/plain": [
       "(99840, 12)"
      ]
     },
     "execution_count": 17,
     "metadata": {},
     "output_type": "execute_result"
    }
   ],
   "source": [
    "df.shape"
   ]
  },
  {
   "cell_type": "code",
   "execution_count": 18,
   "id": "a58a182f",
   "metadata": {},
   "outputs": [
    {
     "data": {
      "text/html": [
       "<div>\n",
       "<style scoped>\n",
       "    .dataframe tbody tr th:only-of-type {\n",
       "        vertical-align: middle;\n",
       "    }\n",
       "\n",
       "    .dataframe tbody tr th {\n",
       "        vertical-align: top;\n",
       "    }\n",
       "\n",
       "    .dataframe thead th {\n",
       "        text-align: right;\n",
       "    }\n",
       "</style>\n",
       "<table border=\"1\" class=\"dataframe\">\n",
       "  <thead>\n",
       "    <tr style=\"text-align: right;\">\n",
       "      <th></th>\n",
       "      <th>Country</th>\n",
       "      <th>CountryCode</th>\n",
       "      <th>Province</th>\n",
       "      <th>City</th>\n",
       "      <th>CityCode</th>\n",
       "      <th>Lat</th>\n",
       "      <th>Lon</th>\n",
       "      <th>Confirmed</th>\n",
       "      <th>Deaths</th>\n",
       "      <th>Recovered</th>\n",
       "      <th>Active</th>\n",
       "      <th>Date</th>\n",
       "    </tr>\n",
       "  </thead>\n",
       "  <tbody>\n",
       "    <tr>\n",
       "      <th>515</th>\n",
       "      <td>Côte d'Ivoire</td>\n",
       "      <td></td>\n",
       "      <td></td>\n",
       "      <td></td>\n",
       "      <td></td>\n",
       "      <td>0</td>\n",
       "      <td>0</td>\n",
       "      <td>49911</td>\n",
       "      <td>326</td>\n",
       "      <td>49117</td>\n",
       "      <td>468</td>\n",
       "      <td>2021-07-29T00:00:00Z</td>\n",
       "    </tr>\n",
       "    <tr>\n",
       "      <th>516</th>\n",
       "      <td>Côte d'Ivoire</td>\n",
       "      <td></td>\n",
       "      <td></td>\n",
       "      <td></td>\n",
       "      <td></td>\n",
       "      <td>0</td>\n",
       "      <td>0</td>\n",
       "      <td>50004</td>\n",
       "      <td>328</td>\n",
       "      <td>49187</td>\n",
       "      <td>489</td>\n",
       "      <td>2021-07-30T00:00:00Z</td>\n",
       "    </tr>\n",
       "    <tr>\n",
       "      <th>517</th>\n",
       "      <td>Côte d'Ivoire</td>\n",
       "      <td></td>\n",
       "      <td></td>\n",
       "      <td></td>\n",
       "      <td></td>\n",
       "      <td>0</td>\n",
       "      <td>0</td>\n",
       "      <td>50135</td>\n",
       "      <td>329</td>\n",
       "      <td>49261</td>\n",
       "      <td>545</td>\n",
       "      <td>2021-07-31T00:00:00Z</td>\n",
       "    </tr>\n",
       "    <tr>\n",
       "      <th>518</th>\n",
       "      <td>Côte d'Ivoire</td>\n",
       "      <td></td>\n",
       "      <td></td>\n",
       "      <td></td>\n",
       "      <td></td>\n",
       "      <td>0</td>\n",
       "      <td>0</td>\n",
       "      <td>50278</td>\n",
       "      <td>330</td>\n",
       "      <td>49389</td>\n",
       "      <td>559</td>\n",
       "      <td>2021-08-01T00:00:00Z</td>\n",
       "    </tr>\n",
       "    <tr>\n",
       "      <th>519</th>\n",
       "      <td>Côte d'Ivoire</td>\n",
       "      <td></td>\n",
       "      <td></td>\n",
       "      <td></td>\n",
       "      <td></td>\n",
       "      <td>0</td>\n",
       "      <td>0</td>\n",
       "      <td>50341</td>\n",
       "      <td>332</td>\n",
       "      <td>49461</td>\n",
       "      <td>548</td>\n",
       "      <td>2021-08-02T00:00:00Z</td>\n",
       "    </tr>\n",
       "  </tbody>\n",
       "</table>\n",
       "</div>"
      ],
      "text/plain": [
       "           Country CountryCode Province City CityCode Lat Lon  Confirmed  \\\n",
       "515  Côte d'Ivoire                                      0   0      49911   \n",
       "516  Côte d'Ivoire                                      0   0      50004   \n",
       "517  Côte d'Ivoire                                      0   0      50135   \n",
       "518  Côte d'Ivoire                                      0   0      50278   \n",
       "519  Côte d'Ivoire                                      0   0      50341   \n",
       "\n",
       "     Deaths  Recovered  Active                  Date  \n",
       "515     326      49117     468  2021-07-29T00:00:00Z  \n",
       "516     328      49187     489  2021-07-30T00:00:00Z  \n",
       "517     329      49261     545  2021-07-31T00:00:00Z  \n",
       "518     330      49389     559  2021-08-01T00:00:00Z  \n",
       "519     332      49461     548  2021-08-02T00:00:00Z  "
      ]
     },
     "execution_count": 18,
     "metadata": {},
     "output_type": "execute_result"
    }
   ],
   "source": [
    "df.tail()"
   ]
  },
  {
   "cell_type": "code",
   "execution_count": 11,
   "id": "fc90456d",
   "metadata": {},
   "outputs": [],
   "source": [
    "df.to_csv(\"all_counties_stats.csv\" , index = False )"
   ]
  },
  {
   "cell_type": "code",
   "execution_count": 19,
   "id": "19956f16",
   "metadata": {},
   "outputs": [
    {
     "data": {
      "text/html": [
       "<div>\n",
       "<style scoped>\n",
       "    .dataframe tbody tr th:only-of-type {\n",
       "        vertical-align: middle;\n",
       "    }\n",
       "\n",
       "    .dataframe tbody tr th {\n",
       "        vertical-align: top;\n",
       "    }\n",
       "\n",
       "    .dataframe thead th {\n",
       "        text-align: right;\n",
       "    }\n",
       "</style>\n",
       "<table border=\"1\" class=\"dataframe\">\n",
       "  <thead>\n",
       "    <tr style=\"text-align: right;\">\n",
       "      <th></th>\n",
       "      <th>Country</th>\n",
       "      <th>CountryCode</th>\n",
       "      <th>Province</th>\n",
       "      <th>City</th>\n",
       "      <th>CityCode</th>\n",
       "      <th>Lat</th>\n",
       "      <th>Lon</th>\n",
       "      <th>Confirmed</th>\n",
       "      <th>Deaths</th>\n",
       "      <th>Recovered</th>\n",
       "      <th>Active</th>\n",
       "      <th>Date</th>\n",
       "    </tr>\n",
       "  </thead>\n",
       "  <tbody>\n",
       "    <tr>\n",
       "      <th>0</th>\n",
       "      <td>Egypt</td>\n",
       "      <td></td>\n",
       "      <td></td>\n",
       "      <td></td>\n",
       "      <td></td>\n",
       "      <td>0</td>\n",
       "      <td>0</td>\n",
       "      <td>2</td>\n",
       "      <td>0</td>\n",
       "      <td>1</td>\n",
       "      <td>1</td>\n",
       "      <td>2020-03-01T00:00:00Z</td>\n",
       "    </tr>\n",
       "    <tr>\n",
       "      <th>1</th>\n",
       "      <td>Egypt</td>\n",
       "      <td></td>\n",
       "      <td></td>\n",
       "      <td></td>\n",
       "      <td></td>\n",
       "      <td>0</td>\n",
       "      <td>0</td>\n",
       "      <td>2</td>\n",
       "      <td>0</td>\n",
       "      <td>1</td>\n",
       "      <td>1</td>\n",
       "      <td>2020-03-02T00:00:00Z</td>\n",
       "    </tr>\n",
       "    <tr>\n",
       "      <th>2</th>\n",
       "      <td>Egypt</td>\n",
       "      <td></td>\n",
       "      <td></td>\n",
       "      <td></td>\n",
       "      <td></td>\n",
       "      <td>0</td>\n",
       "      <td>0</td>\n",
       "      <td>2</td>\n",
       "      <td>0</td>\n",
       "      <td>1</td>\n",
       "      <td>1</td>\n",
       "      <td>2020-03-03T00:00:00Z</td>\n",
       "    </tr>\n",
       "    <tr>\n",
       "      <th>3</th>\n",
       "      <td>Egypt</td>\n",
       "      <td></td>\n",
       "      <td></td>\n",
       "      <td></td>\n",
       "      <td></td>\n",
       "      <td>0</td>\n",
       "      <td>0</td>\n",
       "      <td>2</td>\n",
       "      <td>0</td>\n",
       "      <td>1</td>\n",
       "      <td>1</td>\n",
       "      <td>2020-03-04T00:00:00Z</td>\n",
       "    </tr>\n",
       "    <tr>\n",
       "      <th>4</th>\n",
       "      <td>Egypt</td>\n",
       "      <td></td>\n",
       "      <td></td>\n",
       "      <td></td>\n",
       "      <td></td>\n",
       "      <td>0</td>\n",
       "      <td>0</td>\n",
       "      <td>3</td>\n",
       "      <td>0</td>\n",
       "      <td>1</td>\n",
       "      <td>2</td>\n",
       "      <td>2020-03-05T00:00:00Z</td>\n",
       "    </tr>\n",
       "  </tbody>\n",
       "</table>\n",
       "</div>"
      ],
      "text/plain": [
       "  Country CountryCode Province City CityCode Lat Lon  Confirmed  Deaths  \\\n",
       "0   Egypt                                      0   0          2       0   \n",
       "1   Egypt                                      0   0          2       0   \n",
       "2   Egypt                                      0   0          2       0   \n",
       "3   Egypt                                      0   0          2       0   \n",
       "4   Egypt                                      0   0          3       0   \n",
       "\n",
       "   Recovered  Active                  Date  \n",
       "0          1       1  2020-03-01T00:00:00Z  \n",
       "1          1       1  2020-03-02T00:00:00Z  \n",
       "2          1       1  2020-03-03T00:00:00Z  \n",
       "3          1       1  2020-03-04T00:00:00Z  \n",
       "4          1       2  2020-03-05T00:00:00Z  "
      ]
     },
     "execution_count": 19,
     "metadata": {},
     "output_type": "execute_result"
    }
   ],
   "source": [
    "df[df['Country'] =='Egypt'].head()"
   ]
  },
  {
   "cell_type": "code",
   "execution_count": 20,
   "id": "290c8a89",
   "metadata": {},
   "outputs": [],
   "source": [
    "df = df.reset_index()"
   ]
  },
  {
   "cell_type": "code",
   "execution_count": 21,
   "id": "aeb1fc70",
   "metadata": {},
   "outputs": [],
   "source": [
    "df = df.drop(columns = ['index'])"
   ]
  },
  {
   "cell_type": "code",
   "execution_count": 22,
   "id": "fe6d0a6b",
   "metadata": {},
   "outputs": [],
   "source": [
    "df.to_csv(\"all_counties_stats.csv\" , index = False )"
   ]
  },
  {
   "cell_type": "code",
   "execution_count": 23,
   "id": "bb18bf7a",
   "metadata": {},
   "outputs": [
    {
     "data": {
      "text/html": [
       "<div>\n",
       "<style scoped>\n",
       "    .dataframe tbody tr th:only-of-type {\n",
       "        vertical-align: middle;\n",
       "    }\n",
       "\n",
       "    .dataframe tbody tr th {\n",
       "        vertical-align: top;\n",
       "    }\n",
       "\n",
       "    .dataframe thead th {\n",
       "        text-align: right;\n",
       "    }\n",
       "</style>\n",
       "<table border=\"1\" class=\"dataframe\">\n",
       "  <thead>\n",
       "    <tr style=\"text-align: right;\">\n",
       "      <th></th>\n",
       "      <th>Country</th>\n",
       "      <th>CountryCode</th>\n",
       "      <th>Province</th>\n",
       "      <th>City</th>\n",
       "      <th>CityCode</th>\n",
       "      <th>Lat</th>\n",
       "      <th>Lon</th>\n",
       "      <th>Confirmed</th>\n",
       "      <th>Deaths</th>\n",
       "      <th>Recovered</th>\n",
       "      <th>Active</th>\n",
       "      <th>Date</th>\n",
       "    </tr>\n",
       "  </thead>\n",
       "  <tbody>\n",
       "    <tr>\n",
       "      <th>99835</th>\n",
       "      <td>Côte d'Ivoire</td>\n",
       "      <td></td>\n",
       "      <td></td>\n",
       "      <td></td>\n",
       "      <td></td>\n",
       "      <td>0</td>\n",
       "      <td>0</td>\n",
       "      <td>49911</td>\n",
       "      <td>326</td>\n",
       "      <td>49117</td>\n",
       "      <td>468</td>\n",
       "      <td>2021-07-29T00:00:00Z</td>\n",
       "    </tr>\n",
       "    <tr>\n",
       "      <th>99836</th>\n",
       "      <td>Côte d'Ivoire</td>\n",
       "      <td></td>\n",
       "      <td></td>\n",
       "      <td></td>\n",
       "      <td></td>\n",
       "      <td>0</td>\n",
       "      <td>0</td>\n",
       "      <td>50004</td>\n",
       "      <td>328</td>\n",
       "      <td>49187</td>\n",
       "      <td>489</td>\n",
       "      <td>2021-07-30T00:00:00Z</td>\n",
       "    </tr>\n",
       "    <tr>\n",
       "      <th>99837</th>\n",
       "      <td>Côte d'Ivoire</td>\n",
       "      <td></td>\n",
       "      <td></td>\n",
       "      <td></td>\n",
       "      <td></td>\n",
       "      <td>0</td>\n",
       "      <td>0</td>\n",
       "      <td>50135</td>\n",
       "      <td>329</td>\n",
       "      <td>49261</td>\n",
       "      <td>545</td>\n",
       "      <td>2021-07-31T00:00:00Z</td>\n",
       "    </tr>\n",
       "    <tr>\n",
       "      <th>99838</th>\n",
       "      <td>Côte d'Ivoire</td>\n",
       "      <td></td>\n",
       "      <td></td>\n",
       "      <td></td>\n",
       "      <td></td>\n",
       "      <td>0</td>\n",
       "      <td>0</td>\n",
       "      <td>50278</td>\n",
       "      <td>330</td>\n",
       "      <td>49389</td>\n",
       "      <td>559</td>\n",
       "      <td>2021-08-01T00:00:00Z</td>\n",
       "    </tr>\n",
       "    <tr>\n",
       "      <th>99839</th>\n",
       "      <td>Côte d'Ivoire</td>\n",
       "      <td></td>\n",
       "      <td></td>\n",
       "      <td></td>\n",
       "      <td></td>\n",
       "      <td>0</td>\n",
       "      <td>0</td>\n",
       "      <td>50341</td>\n",
       "      <td>332</td>\n",
       "      <td>49461</td>\n",
       "      <td>548</td>\n",
       "      <td>2021-08-02T00:00:00Z</td>\n",
       "    </tr>\n",
       "  </tbody>\n",
       "</table>\n",
       "</div>"
      ],
      "text/plain": [
       "             Country CountryCode Province City CityCode Lat Lon  Confirmed  \\\n",
       "99835  Côte d'Ivoire                                      0   0      49911   \n",
       "99836  Côte d'Ivoire                                      0   0      50004   \n",
       "99837  Côte d'Ivoire                                      0   0      50135   \n",
       "99838  Côte d'Ivoire                                      0   0      50278   \n",
       "99839  Côte d'Ivoire                                      0   0      50341   \n",
       "\n",
       "       Deaths  Recovered  Active                  Date  \n",
       "99835     326      49117     468  2021-07-29T00:00:00Z  \n",
       "99836     328      49187     489  2021-07-30T00:00:00Z  \n",
       "99837     329      49261     545  2021-07-31T00:00:00Z  \n",
       "99838     330      49389     559  2021-08-01T00:00:00Z  \n",
       "99839     332      49461     548  2021-08-02T00:00:00Z  "
      ]
     },
     "execution_count": 23,
     "metadata": {},
     "output_type": "execute_result"
    }
   ],
   "source": [
    "df.tail()"
   ]
  },
  {
   "cell_type": "code",
   "execution_count": 24,
   "id": "f0376184",
   "metadata": {},
   "outputs": [],
   "source": [
    "D = set(slugs).difference(set(df['Country'].unique()))"
   ]
  },
  {
   "cell_type": "code",
   "execution_count": 25,
   "id": "cacfcec6",
   "metadata": {},
   "outputs": [
    {
     "data": {
      "text/plain": [
       "192"
      ]
     },
     "execution_count": 25,
     "metadata": {},
     "output_type": "execute_result"
    }
   ],
   "source": [
    "df['Country'].nunique()"
   ]
  },
  {
   "cell_type": "code",
   "execution_count": 26,
   "id": "0a069f41",
   "metadata": {},
   "outputs": [
    {
     "data": {
      "text/plain": [
       "248"
      ]
     },
     "execution_count": 26,
     "metadata": {},
     "output_type": "execute_result"
    }
   ],
   "source": [
    "len(slugs)"
   ]
  },
  {
   "cell_type": "code",
   "execution_count": 27,
   "id": "978726d8",
   "metadata": {},
   "outputs": [
    {
     "data": {
      "text/plain": [
       "{'ALA Aland Islands',\n",
       " 'American Samoa',\n",
       " 'Anguilla',\n",
       " 'Antarctica',\n",
       " 'Aruba',\n",
       " 'Bermuda',\n",
       " 'Bouvet Island',\n",
       " 'British Indian Ocean Territory',\n",
       " 'British Virgin Islands',\n",
       " 'Cayman Islands',\n",
       " 'Christmas Island',\n",
       " 'Cocos (Keeling) Islands',\n",
       " 'Cook Islands',\n",
       " 'Falkland Islands (Malvinas)',\n",
       " 'Faroe Islands',\n",
       " 'French Guiana',\n",
       " 'French Polynesia',\n",
       " 'French Southern Territories',\n",
       " 'Gibraltar',\n",
       " 'Greenland',\n",
       " 'Guadeloupe',\n",
       " 'Guam',\n",
       " 'Guernsey',\n",
       " 'Heard and Mcdonald Islands',\n",
       " 'Hong Kong, SAR China',\n",
       " 'Isle of Man',\n",
       " 'Jersey',\n",
       " 'Korea (North)',\n",
       " 'Macao, SAR China',\n",
       " 'Martinique',\n",
       " 'Mayotte',\n",
       " 'Montserrat',\n",
       " 'Nauru',\n",
       " 'Netherlands Antilles',\n",
       " 'New Caledonia',\n",
       " 'Niue',\n",
       " 'Norfolk Island',\n",
       " 'Northern Mariana Islands',\n",
       " 'Pitcairn',\n",
       " 'Puerto Rico',\n",
       " 'Réunion',\n",
       " 'Saint Helena',\n",
       " 'Saint Pierre and Miquelon',\n",
       " 'Saint-Barthélemy',\n",
       " 'Saint-Martin (French part)',\n",
       " 'South Georgia and the South Sandwich Islands',\n",
       " 'Svalbard and Jan Mayen Islands',\n",
       " 'Tokelau',\n",
       " 'Tonga',\n",
       " 'Turkmenistan',\n",
       " 'Turks and Caicos Islands',\n",
       " 'Tuvalu',\n",
       " 'US Minor Outlying Islands',\n",
       " 'Virgin Islands, US',\n",
       " 'Wallis and Futuna Islands',\n",
       " 'Western Sahara'}"
      ]
     },
     "execution_count": 27,
     "metadata": {},
     "output_type": "execute_result"
    }
   ],
   "source": [
    "set(countries['Country']).difference(df['Country'].unique())"
   ]
  },
  {
   "cell_type": "code",
   "execution_count": 28,
   "id": "4b70d0d2",
   "metadata": {},
   "outputs": [
    {
     "data": {
      "text/html": [
       "<div>\n",
       "<style scoped>\n",
       "    .dataframe tbody tr th:only-of-type {\n",
       "        vertical-align: middle;\n",
       "    }\n",
       "\n",
       "    .dataframe tbody tr th {\n",
       "        vertical-align: top;\n",
       "    }\n",
       "\n",
       "    .dataframe thead th {\n",
       "        text-align: right;\n",
       "    }\n",
       "</style>\n",
       "<table border=\"1\" class=\"dataframe\">\n",
       "  <thead>\n",
       "    <tr style=\"text-align: right;\">\n",
       "      <th></th>\n",
       "      <th>Country</th>\n",
       "      <th>Slug</th>\n",
       "      <th>ISO2</th>\n",
       "    </tr>\n",
       "  </thead>\n",
       "  <tbody>\n",
       "    <tr>\n",
       "      <th>245</th>\n",
       "      <td>Tokelau</td>\n",
       "      <td>tokelau</td>\n",
       "      <td>TK</td>\n",
       "    </tr>\n",
       "  </tbody>\n",
       "</table>\n",
       "</div>"
      ],
      "text/plain": [
       "     Country     Slug ISO2\n",
       "245  Tokelau  tokelau   TK"
      ]
     },
     "execution_count": 28,
     "metadata": {},
     "output_type": "execute_result"
    }
   ],
   "source": [
    "countries[countries['Country'] == 'Tokelau']"
   ]
  },
  {
   "cell_type": "code",
   "execution_count": 29,
   "id": "c7332d6b",
   "metadata": {},
   "outputs": [
    {
     "data": {
      "text/plain": [
       "[]"
      ]
     },
     "execution_count": 29,
     "metadata": {},
     "output_type": "execute_result"
    }
   ],
   "source": [
    "get_stats_country('tokelau' , from_date , to_date ).json()"
   ]
  },
  {
   "cell_type": "code",
   "execution_count": 30,
   "id": "11a8db31",
   "metadata": {},
   "outputs": [
    {
     "data": {
      "text/plain": [
       "(99840, 12)"
      ]
     },
     "execution_count": 30,
     "metadata": {},
     "output_type": "execute_result"
    }
   ],
   "source": [
    "df.shape"
   ]
  },
  {
   "cell_type": "code",
   "execution_count": 47,
   "id": "8d8aedca",
   "metadata": {},
   "outputs": [],
   "source": [
    "# handle cummulative sum issue in the data frame \n",
    "df = pd.read_csv(\"data_countries/all_countries_stats.csv\")"
   ]
  },
  {
   "cell_type": "code",
   "execution_count": 48,
   "id": "921f03da",
   "metadata": {},
   "outputs": [
    {
     "data": {
      "text/html": [
       "<div>\n",
       "<style scoped>\n",
       "    .dataframe tbody tr th:only-of-type {\n",
       "        vertical-align: middle;\n",
       "    }\n",
       "\n",
       "    .dataframe tbody tr th {\n",
       "        vertical-align: top;\n",
       "    }\n",
       "\n",
       "    .dataframe thead th {\n",
       "        text-align: right;\n",
       "    }\n",
       "</style>\n",
       "<table border=\"1\" class=\"dataframe\">\n",
       "  <thead>\n",
       "    <tr style=\"text-align: right;\">\n",
       "      <th></th>\n",
       "      <th>Country</th>\n",
       "      <th>CountryCode</th>\n",
       "      <th>Province</th>\n",
       "      <th>City</th>\n",
       "      <th>CityCode</th>\n",
       "      <th>Lat</th>\n",
       "      <th>Lon</th>\n",
       "      <th>Confirmed</th>\n",
       "      <th>Deaths</th>\n",
       "      <th>Recovered</th>\n",
       "      <th>Active</th>\n",
       "      <th>Date</th>\n",
       "    </tr>\n",
       "  </thead>\n",
       "  <tbody>\n",
       "    <tr>\n",
       "      <th>92155</th>\n",
       "      <td>Maldives</td>\n",
       "      <td>NaN</td>\n",
       "      <td>NaN</td>\n",
       "      <td>NaN</td>\n",
       "      <td>NaN</td>\n",
       "      <td>0</td>\n",
       "      <td>0</td>\n",
       "      <td>71709</td>\n",
       "      <td>205</td>\n",
       "      <td>66090</td>\n",
       "      <td>5414</td>\n",
       "      <td>2021-06-19T00:00:00Z</td>\n",
       "    </tr>\n",
       "    <tr>\n",
       "      <th>92156</th>\n",
       "      <td>Maldives</td>\n",
       "      <td>NaN</td>\n",
       "      <td>NaN</td>\n",
       "      <td>NaN</td>\n",
       "      <td>NaN</td>\n",
       "      <td>0</td>\n",
       "      <td>0</td>\n",
       "      <td>71896</td>\n",
       "      <td>206</td>\n",
       "      <td>66379</td>\n",
       "      <td>5311</td>\n",
       "      <td>2021-06-20T00:00:00Z</td>\n",
       "    </tr>\n",
       "    <tr>\n",
       "      <th>92157</th>\n",
       "      <td>Maldives</td>\n",
       "      <td>NaN</td>\n",
       "      <td>NaN</td>\n",
       "      <td>NaN</td>\n",
       "      <td>NaN</td>\n",
       "      <td>0</td>\n",
       "      <td>0</td>\n",
       "      <td>72149</td>\n",
       "      <td>206</td>\n",
       "      <td>67148</td>\n",
       "      <td>4795</td>\n",
       "      <td>2021-06-21T00:00:00Z</td>\n",
       "    </tr>\n",
       "    <tr>\n",
       "      <th>92158</th>\n",
       "      <td>Maldives</td>\n",
       "      <td>NaN</td>\n",
       "      <td>NaN</td>\n",
       "      <td>NaN</td>\n",
       "      <td>NaN</td>\n",
       "      <td>0</td>\n",
       "      <td>0</td>\n",
       "      <td>72294</td>\n",
       "      <td>207</td>\n",
       "      <td>67507</td>\n",
       "      <td>4580</td>\n",
       "      <td>2021-06-22T00:00:00Z</td>\n",
       "    </tr>\n",
       "    <tr>\n",
       "      <th>92159</th>\n",
       "      <td>Maldives</td>\n",
       "      <td>NaN</td>\n",
       "      <td>NaN</td>\n",
       "      <td>NaN</td>\n",
       "      <td>NaN</td>\n",
       "      <td>0</td>\n",
       "      <td>0</td>\n",
       "      <td>72466</td>\n",
       "      <td>207</td>\n",
       "      <td>67886</td>\n",
       "      <td>4373</td>\n",
       "      <td>2021-06-23T00:00:00Z</td>\n",
       "    </tr>\n",
       "  </tbody>\n",
       "</table>\n",
       "</div>"
      ],
      "text/plain": [
       "        Country  CountryCode  Province  City  CityCode  Lat  Lon  Confirmed  \\\n",
       "92155  Maldives          NaN       NaN   NaN       NaN    0    0      71709   \n",
       "92156  Maldives          NaN       NaN   NaN       NaN    0    0      71896   \n",
       "92157  Maldives          NaN       NaN   NaN       NaN    0    0      72149   \n",
       "92158  Maldives          NaN       NaN   NaN       NaN    0    0      72294   \n",
       "92159  Maldives          NaN       NaN   NaN       NaN    0    0      72466   \n",
       "\n",
       "       Deaths  Recovered  Active                  Date  \n",
       "92155     205      66090    5414  2021-06-19T00:00:00Z  \n",
       "92156     206      66379    5311  2021-06-20T00:00:00Z  \n",
       "92157     206      67148    4795  2021-06-21T00:00:00Z  \n",
       "92158     207      67507    4580  2021-06-22T00:00:00Z  \n",
       "92159     207      67886    4373  2021-06-23T00:00:00Z  "
      ]
     },
     "execution_count": 48,
     "metadata": {},
     "output_type": "execute_result"
    }
   ],
   "source": [
    "df.tail()"
   ]
  },
  {
   "cell_type": "code",
   "execution_count": 49,
   "id": "c8474486",
   "metadata": {},
   "outputs": [],
   "source": [
    "df = df[['Country','Recovered','Active','Confirmed','Deaths','Date']]"
   ]
  },
  {
   "cell_type": "code",
   "execution_count": 50,
   "id": "8397f80d",
   "metadata": {},
   "outputs": [
    {
     "name": "stderr",
     "output_type": "stream",
     "text": [
      "<ipython-input-50-ed6fd1041bd3>:13: SettingWithCopyWarning: \n",
      "A value is trying to be set on a copy of a slice from a DataFrame\n",
      "\n",
      "See the caveats in the documentation: https://pandas.pydata.org/pandas-docs/stable/user_guide/indexing.html#returning-a-view-versus-a-copy\n",
      "  df['Confirmed'][i] = df['Confirmed'][i] - prev_value_conf\n",
      "<ipython-input-50-ed6fd1041bd3>:14: SettingWithCopyWarning: \n",
      "A value is trying to be set on a copy of a slice from a DataFrame\n",
      "\n",
      "See the caveats in the documentation: https://pandas.pydata.org/pandas-docs/stable/user_guide/indexing.html#returning-a-view-versus-a-copy\n",
      "  df['Deaths'][i] = df['Deaths'][i] - prev_value_death\n",
      "<ipython-input-50-ed6fd1041bd3>:15: SettingWithCopyWarning: \n",
      "A value is trying to be set on a copy of a slice from a DataFrame\n",
      "\n",
      "See the caveats in the documentation: https://pandas.pydata.org/pandas-docs/stable/user_guide/indexing.html#returning-a-view-versus-a-copy\n",
      "  df['Recovered'][i] = df['Recovered'][i] - prev_value_recovered\n"
     ]
    }
   ],
   "source": [
    "prev_country = df['Country'][0] \n",
    "prev_value_conf = df['Confirmed'][0] \n",
    "prev_value_death = df['Deaths'][0] \n",
    "prev_value_recovered = df['Recovered'][0] \n",
    "\n",
    "for i in range( 1  , df.shape[0] ):\n",
    "    if df['Country'][i] == prev_country : \n",
    "        \n",
    "        temp_1 = df['Confirmed'][i] \n",
    "        temp_2 = df['Deaths'][i] \n",
    "        temp_3 = df['Recovered'][i] \n",
    "        \n",
    "        df['Confirmed'][i] = df['Confirmed'][i] - prev_value_conf \n",
    "        df['Deaths'][i] = df['Deaths'][i] - prev_value_death \n",
    "        df['Recovered'][i] = df['Recovered'][i] - prev_value_recovered \n",
    "        prev_value_conf = temp_1\n",
    "        prev_value_death = temp_2 \n",
    "        prev_value_recovered = temp_3\n",
    "    else:\n",
    "        \n",
    "        prev_country = df['Country'][i] \n",
    "        prev_value_conf = df['Confirmed'][i] \n",
    "        prev_value_death = df['Deaths'][i] \n",
    "        prev_value_recovered = df['Recovered'][i] "
   ]
  },
  {
   "cell_type": "code",
   "execution_count": 55,
   "id": "45fff197",
   "metadata": {},
   "outputs": [
    {
     "data": {
      "text/html": [
       "<div>\n",
       "<style scoped>\n",
       "    .dataframe tbody tr th:only-of-type {\n",
       "        vertical-align: middle;\n",
       "    }\n",
       "\n",
       "    .dataframe tbody tr th {\n",
       "        vertical-align: top;\n",
       "    }\n",
       "\n",
       "    .dataframe thead th {\n",
       "        text-align: right;\n",
       "    }\n",
       "</style>\n",
       "<table border=\"1\" class=\"dataframe\">\n",
       "  <thead>\n",
       "    <tr style=\"text-align: right;\">\n",
       "      <th></th>\n",
       "      <th>Country</th>\n",
       "      <th>Recovered</th>\n",
       "      <th>Active</th>\n",
       "      <th>Confirmed</th>\n",
       "      <th>Deaths</th>\n",
       "      <th>Date</th>\n",
       "    </tr>\n",
       "  </thead>\n",
       "  <tbody>\n",
       "    <tr>\n",
       "      <th>92155</th>\n",
       "      <td>Maldives</td>\n",
       "      <td>912</td>\n",
       "      <td>5414</td>\n",
       "      <td>211</td>\n",
       "      <td>2</td>\n",
       "      <td>2021-06-19T00:00:00Z</td>\n",
       "    </tr>\n",
       "    <tr>\n",
       "      <th>92156</th>\n",
       "      <td>Maldives</td>\n",
       "      <td>289</td>\n",
       "      <td>5311</td>\n",
       "      <td>187</td>\n",
       "      <td>1</td>\n",
       "      <td>2021-06-20T00:00:00Z</td>\n",
       "    </tr>\n",
       "    <tr>\n",
       "      <th>92157</th>\n",
       "      <td>Maldives</td>\n",
       "      <td>769</td>\n",
       "      <td>4795</td>\n",
       "      <td>253</td>\n",
       "      <td>0</td>\n",
       "      <td>2021-06-21T00:00:00Z</td>\n",
       "    </tr>\n",
       "    <tr>\n",
       "      <th>92158</th>\n",
       "      <td>Maldives</td>\n",
       "      <td>359</td>\n",
       "      <td>4580</td>\n",
       "      <td>145</td>\n",
       "      <td>1</td>\n",
       "      <td>2021-06-22T00:00:00Z</td>\n",
       "    </tr>\n",
       "    <tr>\n",
       "      <th>92159</th>\n",
       "      <td>Maldives</td>\n",
       "      <td>379</td>\n",
       "      <td>4373</td>\n",
       "      <td>172</td>\n",
       "      <td>0</td>\n",
       "      <td>2021-06-23T00:00:00Z</td>\n",
       "    </tr>\n",
       "  </tbody>\n",
       "</table>\n",
       "</div>"
      ],
      "text/plain": [
       "        Country  Recovered  Active  Confirmed  Deaths                  Date\n",
       "92155  Maldives        912    5414        211       2  2021-06-19T00:00:00Z\n",
       "92156  Maldives        289    5311        187       1  2021-06-20T00:00:00Z\n",
       "92157  Maldives        769    4795        253       0  2021-06-21T00:00:00Z\n",
       "92158  Maldives        359    4580        145       1  2021-06-22T00:00:00Z\n",
       "92159  Maldives        379    4373        172       0  2021-06-23T00:00:00Z"
      ]
     },
     "execution_count": 55,
     "metadata": {},
     "output_type": "execute_result"
    }
   ],
   "source": [
    "df.tail()"
   ]
  },
  {
   "cell_type": "code",
   "execution_count": 56,
   "id": "fbb9b335",
   "metadata": {},
   "outputs": [],
   "source": [
    "df.to_csv(\"Cleaned_countries_stat.csv\" , index = False)"
   ]
  },
  {
   "cell_type": "code",
   "execution_count": null,
   "id": "743c1ea5",
   "metadata": {},
   "outputs": [],
   "source": []
  }
 ],
 "metadata": {
  "kernelspec": {
   "display_name": "Python 3",
   "language": "python",
   "name": "python3"
  },
  "language_info": {
   "codemirror_mode": {
    "name": "ipython",
    "version": 3
   },
   "file_extension": ".py",
   "mimetype": "text/x-python",
   "name": "python",
   "nbconvert_exporter": "python",
   "pygments_lexer": "ipython3",
   "version": "3.8.8"
  }
 },
 "nbformat": 4,
 "nbformat_minor": 5
}
