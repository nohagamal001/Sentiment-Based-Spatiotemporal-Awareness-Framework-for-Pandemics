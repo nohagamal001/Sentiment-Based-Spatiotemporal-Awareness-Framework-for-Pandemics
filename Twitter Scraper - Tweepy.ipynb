{
 "cells": [
  {
   "cell_type": "markdown",
   "id": "eff0c5ad",
   "metadata": {},
   "source": [
    "<a id=\"1\"></a>\n",
    "# Twitter Scraping using Tweepy"
   ]
  },
  {
   "cell_type": "code",
   "execution_count": null,
   "id": "7ce9254e",
   "metadata": {
    "scrolled": true
   },
   "outputs": [],
   "source": [
    "import tweepy\n",
    "import pymongo\n",
    "import time\n",
    "import datetime"
   ]
  },
  {
   "cell_type": "code",
   "execution_count": null,
   "id": "e33584ce",
   "metadata": {
    "scrolled": true
   },
   "outputs": [],
   "source": [
    "mongo_client = pymongo.MongoClient()\n",
    "mongo_db = mongo_client[\"twitter\"]\n",
    "mongo_collection = mongo_db[\"tweets\"]\n",
    "\n",
    "def insert_into_mongo(collection, docs):\n",
    "    try:\n",
    "        collection.insert_many(docs, ordered = False )\n",
    "    except Exception as e:\n",
    "        pass\n",
    "\n",
    "\n",
    "def remove_dublicates_mongo(mongo_db, old_collection_name, new_collection_name):\n",
    "    \"\"\"\n",
    "    remove duplicated docs in mongoDB\n",
    "    \"\"\"\n",
    "    try:\n",
    "        old_collection = mongo_db[old_collection_name]\n",
    "        new_collection = mongo_db[new_collection_name]\n",
    "        \n",
    "        old_cursor = old_collection.find()\n",
    "        \n",
    "        docs = [doc for doc in old_cursor]\n",
    "        insert_into_mongo(new_collection, docs)\n",
    "        old_collection.drop()\n",
    "        \n",
    "    except Exception as e:\n",
    "        print('Exception : %s' % str(e))"
   ]
  },
  {
   "cell_type": "code",
   "execution_count": null,
   "id": "eaaa3d28",
   "metadata": {
    "scrolled": true
   },
   "outputs": [],
   "source": [
    "TWITTER_CONSUMER_KEY = \"nCfs9fJCXThG9PHVWinsVywHt\"\n",
    "TWITTER_CONSUMER_SECRET = \"EvFpByStx6diPJ0UZplSkhBd53laQj5lheE0KynGojEtTtAy17\"\n",
    "TWITTER_ACCESS_TOKEN = \"1380480442818789376-xXSTw2pNEzHUgJ486YFkxPeXXkWSGX\"\n",
    "TWITTER_ACCESS_TOKEN_SECRET = \"R7sSTfgCV3O2ZZryWtRNQZHTc8blOJN60zqhM46FG6ak9\"\n",
    "\n",
    "def create_api():\n",
    "    consumer_key = TWITTER_CONSUMER_KEY\n",
    "    consumer_secret = TWITTER_CONSUMER_SECRET\n",
    "    access_token = TWITTER_ACCESS_TOKEN\n",
    "    access_token_secret = TWITTER_ACCESS_TOKEN_SECRET\n",
    "\n",
    "    auth = tweepy.OAuthHandler(consumer_key, consumer_secret)\n",
    "    auth.set_access_token(access_token, access_token_secret)\n",
    "    api = tweepy.API(auth, wait_on_rate_limit=True, \n",
    "        wait_on_rate_limit_notify=True)\n",
    "    try:\n",
    "        api.verify_credentials()\n",
    "    except Exception as e:\n",
    "        print(\"Error creating API\", exc_info=True)\n",
    "        raise e\n",
    "    print(\"API created\")\n",
    "    return api\n"
   ]
  },
  {
   "cell_type": "code",
   "execution_count": null,
   "id": "2cbd9539",
   "metadata": {
    "scrolled": true
   },
   "outputs": [],
   "source": [
    "def get_search_results(api, query):\n",
    "    \"\"\"\n",
    "    get search results from Twitter using API\n",
    "    \"\"\"\n",
    "    output = []\n",
    "\n",
    "    for tweet in api.search(q=query, tweet_mode='extended', lang=\"en\", count=100):\n",
    "        output.append(tweet._json)\n",
    "\n",
    "    return output\n",
    "\n",
    "\n",
    "def remove_duplicates(l):\n",
    "    \"\"\"\n",
    "    using list comprehension to remove duplicates \n",
    "    \"\"\"\n",
    "    return [i for n, i in enumerate(l) if i not in l[n + 1:]]"
   ]
  },
  {
   "cell_type": "code",
   "execution_count": null,
   "id": "b4192906",
   "metadata": {
    "scrolled": true
   },
   "outputs": [],
   "source": [
    "def main():\n",
    "    api = create_api()\n",
    "        \n",
    "    while True:\n",
    "        tweets_no = 0\n",
    "        print(\"Scraping new tweets...\")\n",
    "        tweets = get_search_results(api, query=\"covid\")  \n",
    "        new_key = \"_id\"\n",
    "        old_key = \"id_str\"\n",
    "        for i in tweets:\n",
    "            i[new_key] = i.pop(old_key)\n",
    "        print(len(tweets), \" tweets found!\")\n",
    "        \n",
    "        insert_into_mongo(mongo_collection, tweets)\n",
    "        tweets_no = mongo_collection.count()\n",
    "        print(\"Number of total tweets in MongoDB:\", tweets_no)\n",
    "        unique_tweets_no = len(mongo_collection.distinct(\"_id\"))\n",
    "        print(\"Number of unique tweets in MongoDB:\", unique_tweets_no)\n",
    "        \n",
    "                \n",
    "        if tweets_no >= 1000000:\n",
    "            break\n",
    "            \n",
    "        time.sleep(3)\n",
    "        print(\"*\"*100)\n",
    "\n",
    "main()"
   ]
  },
  {
   "cell_type": "code",
   "execution_count": null,
   "id": "d10431de",
   "metadata": {
    "scrolled": true
   },
   "outputs": [],
   "source": [
    "def convert_str_to_datetime(str_date):\n",
    "    return datetime.datetime.strptime(str_date, '%a %b %d %H:%M:%S +0000 %Y')\n",
    "\n",
    "api = create_api()\n",
    "\n",
    "startDate = datetime.datetime(2020, 5, 1)\n",
    "endDate =   datetime.datetime.now()\n",
    "\n",
    "tweets = []\n",
    "tmpTweets = get_search_results(api, query=\"covid\")\n",
    "\n",
    "for tweet in tmpTweets:\n",
    "    if convert_str_to_datetime(tweet['created_at']) < endDate and convert_str_to_datetime(tweet['created_at']) > startDate:\n",
    "        tweets.append(tweet)\n",
    "\n",
    "while (convert_str_to_datetime(tmpTweets[-1]['created_at']) > startDate):\n",
    "    tmpTweets = get_search_results(api, query=\"covid\")\n",
    "    \n",
    "    for tweet in tmpTweets:\n",
    "        if convert_str_to_datetime(tweet['created_at']) < endDate and convert_str_to_datetime(tweet['created_at']) > startDate:\n",
    "            tweets.append(tweet)\n"
   ]
  },
  {
   "cell_type": "code",
   "execution_count": null,
   "id": "28871cf0",
   "metadata": {},
   "outputs": [],
   "source": [
    "tweets[0]"
   ]
  },
  {
   "cell_type": "code",
   "execution_count": null,
   "id": "ee51845c",
   "metadata": {},
   "outputs": [],
   "source": []
  }
 ],
 "metadata": {
  "kernelspec": {
   "display_name": "Python 3",
   "language": "python",
   "name": "python3"
  },
  "language_info": {
   "codemirror_mode": {
    "name": "ipython",
    "version": 3
   },
   "file_extension": ".py",
   "mimetype": "text/x-python",
   "name": "python",
   "nbconvert_exporter": "python",
   "pygments_lexer": "ipython3",
   "version": "3.8.8"
  }
 },
 "nbformat": 4,
 "nbformat_minor": 5
}
